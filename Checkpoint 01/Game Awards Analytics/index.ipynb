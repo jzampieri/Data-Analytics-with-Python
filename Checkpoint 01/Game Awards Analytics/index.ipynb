{
 "cells": [
  {
   "cell_type": "code",
   "execution_count": 1,
   "metadata": {},
   "outputs": [],
   "source": [
    "import pandas as pd\n",
    "import numpy as np"
   ]
  },
  {
   "cell_type": "code",
   "execution_count": 2,
   "metadata": {},
   "outputs": [],
   "source": [
    "tabela = pd.read_csv(\"CSV/the_game_awards.csv\", encoding='latin1')"
   ]
  },
  {
   "cell_type": "code",
   "execution_count": 3,
   "metadata": {},
   "outputs": [
    {
     "data": {
      "text/html": [
       "<div>\n",
       "<style scoped>\n",
       "    .dataframe tbody tr th:only-of-type {\n",
       "        vertical-align: middle;\n",
       "    }\n",
       "\n",
       "    .dataframe tbody tr th {\n",
       "        vertical-align: top;\n",
       "    }\n",
       "\n",
       "    .dataframe thead th {\n",
       "        text-align: right;\n",
       "    }\n",
       "</style>\n",
       "<table border=\"1\" class=\"dataframe\">\n",
       "  <thead>\n",
       "    <tr style=\"text-align: right;\">\n",
       "      <th></th>\n",
       "      <th>0</th>\n",
       "      <th>1</th>\n",
       "      <th>2</th>\n",
       "      <th>3</th>\n",
       "      <th>4</th>\n",
       "      <th>5</th>\n",
       "      <th>6</th>\n",
       "      <th>7</th>\n",
       "      <th>8</th>\n",
       "      <th>9</th>\n",
       "      <th>...</th>\n",
       "      <th>795</th>\n",
       "      <th>796</th>\n",
       "      <th>797</th>\n",
       "      <th>798</th>\n",
       "      <th>799</th>\n",
       "      <th>800</th>\n",
       "      <th>801</th>\n",
       "      <th>802</th>\n",
       "      <th>803</th>\n",
       "      <th>804</th>\n",
       "    </tr>\n",
       "  </thead>\n",
       "  <tbody>\n",
       "    <tr>\n",
       "      <th>year</th>\n",
       "      <td>2014</td>\n",
       "      <td>2014</td>\n",
       "      <td>2014</td>\n",
       "      <td>2014</td>\n",
       "      <td>2014</td>\n",
       "      <td>2014</td>\n",
       "      <td>2014</td>\n",
       "      <td>2014</td>\n",
       "      <td>2014</td>\n",
       "      <td>2014</td>\n",
       "      <td>...</td>\n",
       "      <td>2019</td>\n",
       "      <td>2019</td>\n",
       "      <td>2019</td>\n",
       "      <td>2019</td>\n",
       "      <td>2019</td>\n",
       "      <td>2019</td>\n",
       "      <td>2019</td>\n",
       "      <td>2019</td>\n",
       "      <td>2019</td>\n",
       "      <td>2019</td>\n",
       "    </tr>\n",
       "    <tr>\n",
       "      <th>category</th>\n",
       "      <td>Game of the Year</td>\n",
       "      <td>Game of the Year</td>\n",
       "      <td>Game of the Year</td>\n",
       "      <td>Game of the Year</td>\n",
       "      <td>Game of the Year</td>\n",
       "      <td>Developer of the Year</td>\n",
       "      <td>Developer of the Year</td>\n",
       "      <td>Developer of the Year</td>\n",
       "      <td>Developer of the Year</td>\n",
       "      <td>Developer of the Year</td>\n",
       "      <td>...</td>\n",
       "      <td>Best Esports Host</td>\n",
       "      <td>Best Esports Host</td>\n",
       "      <td>Best Esports Host</td>\n",
       "      <td>Best Esports Host</td>\n",
       "      <td>Best Esports Host</td>\n",
       "      <td>Global Gaming Citizens</td>\n",
       "      <td>Global Gaming Citizens</td>\n",
       "      <td>Global Gaming Citizens</td>\n",
       "      <td>Global Gaming Citizens</td>\n",
       "      <td>Global Gaming Citizens</td>\n",
       "    </tr>\n",
       "    <tr>\n",
       "      <th>nominee</th>\n",
       "      <td>Dragon Age: Inquisition</td>\n",
       "      <td>Bayonetta 2</td>\n",
       "      <td>Dark Souls II</td>\n",
       "      <td>Hearthstone: Heroes of Warcraft</td>\n",
       "      <td>Middle-earth: Shadow of Mordor</td>\n",
       "      <td>Nintendo Entertainment Analysis and Development</td>\n",
       "      <td>Blizzard Entertainment</td>\n",
       "      <td>Monolith Productions</td>\n",
       "      <td>Telltale Games</td>\n",
       "      <td>Ubisoft Montreal</td>\n",
       "      <td>...</td>\n",
       "      <td>Eefje \"Sjokz\" Depoortere</td>\n",
       "      <td>Alex \"Goldenboy\" Mendez</td>\n",
       "      <td>Alex \"Machine\" Richardson</td>\n",
       "      <td>Duan \"Candice\" Yu-Shuang</td>\n",
       "      <td>Paul \"Redeye\" Chaloner</td>\n",
       "      <td>Fereshteh Forough, Code to Inspire</td>\n",
       "      <td>Damon Packwood, Gameheads</td>\n",
       "      <td>Luke, Let's Be Well</td>\n",
       "      <td>Vanessa Gill, Social Cipher</td>\n",
       "      <td>Stephen Machuga and Mat Bergendahl, Stack Up</td>\n",
       "    </tr>\n",
       "    <tr>\n",
       "      <th>company</th>\n",
       "      <td>BioWare</td>\n",
       "      <td>Platinum Games</td>\n",
       "      <td>FromSoftware</td>\n",
       "      <td>Blizzard Entertainment</td>\n",
       "      <td>Monolith Productions</td>\n",
       "      <td>Nintendo</td>\n",
       "      <td>Blizzard Entertainment</td>\n",
       "      <td>Monolith Productions</td>\n",
       "      <td>Telltale Games</td>\n",
       "      <td>Ubisoft Montreal</td>\n",
       "      <td>...</td>\n",
       "      <td>NaN</td>\n",
       "      <td>NaN</td>\n",
       "      <td>NaN</td>\n",
       "      <td>NaN</td>\n",
       "      <td>NaN</td>\n",
       "      <td>NaN</td>\n",
       "      <td>NaN</td>\n",
       "      <td>NaN</td>\n",
       "      <td>NaN</td>\n",
       "      <td>NaN</td>\n",
       "    </tr>\n",
       "    <tr>\n",
       "      <th>winner</th>\n",
       "      <td>1</td>\n",
       "      <td>0</td>\n",
       "      <td>0</td>\n",
       "      <td>0</td>\n",
       "      <td>0</td>\n",
       "      <td>1</td>\n",
       "      <td>0</td>\n",
       "      <td>0</td>\n",
       "      <td>0</td>\n",
       "      <td>0</td>\n",
       "      <td>...</td>\n",
       "      <td>1</td>\n",
       "      <td>0</td>\n",
       "      <td>0</td>\n",
       "      <td>0</td>\n",
       "      <td>0</td>\n",
       "      <td>1</td>\n",
       "      <td>1</td>\n",
       "      <td>1</td>\n",
       "      <td>1</td>\n",
       "      <td>1</td>\n",
       "    </tr>\n",
       "    <tr>\n",
       "      <th>voted</th>\n",
       "      <td>jury</td>\n",
       "      <td>jury</td>\n",
       "      <td>jury</td>\n",
       "      <td>jury</td>\n",
       "      <td>jury</td>\n",
       "      <td>jury</td>\n",
       "      <td>jury</td>\n",
       "      <td>jury</td>\n",
       "      <td>jury</td>\n",
       "      <td>jury</td>\n",
       "      <td>...</td>\n",
       "      <td>jury</td>\n",
       "      <td>jury</td>\n",
       "      <td>jury</td>\n",
       "      <td>jury</td>\n",
       "      <td>jury</td>\n",
       "      <td>jury</td>\n",
       "      <td>jury</td>\n",
       "      <td>jury</td>\n",
       "      <td>jury</td>\n",
       "      <td>jury</td>\n",
       "    </tr>\n",
       "  </tbody>\n",
       "</table>\n",
       "<p>6 rows × 805 columns</p>\n",
       "</div>"
      ],
      "text/plain": [
       "                              0                 1                 2    \\\n",
       "year                         2014              2014              2014   \n",
       "category         Game of the Year  Game of the Year  Game of the Year   \n",
       "nominee   Dragon Age: Inquisition       Bayonetta 2     Dark Souls II   \n",
       "company                   BioWare    Platinum Games      FromSoftware   \n",
       "winner                          1                 0                 0   \n",
       "voted                        jury              jury              jury   \n",
       "\n",
       "                                      3                               4    \\\n",
       "year                                 2014                            2014   \n",
       "category                 Game of the Year                Game of the Year   \n",
       "nominee   Hearthstone: Heroes of Warcraft  Middle-earth: Shadow of Mordor   \n",
       "company            Blizzard Entertainment            Monolith Productions   \n",
       "winner                                  0                               0   \n",
       "voted                                jury                            jury   \n",
       "\n",
       "                                                      5    \\\n",
       "year                                                 2014   \n",
       "category                            Developer of the Year   \n",
       "nominee   Nintendo Entertainment Analysis and Development   \n",
       "company                                          Nintendo   \n",
       "winner                                                  1   \n",
       "voted                                                jury   \n",
       "\n",
       "                             6                      7    \\\n",
       "year                        2014                   2014   \n",
       "category   Developer of the Year  Developer of the Year   \n",
       "nominee   Blizzard Entertainment   Monolith Productions   \n",
       "company   Blizzard Entertainment   Monolith Productions   \n",
       "winner                         0                      0   \n",
       "voted                       jury                   jury   \n",
       "\n",
       "                            8                      9    ...  \\\n",
       "year                       2014                   2014  ...   \n",
       "category  Developer of the Year  Developer of the Year  ...   \n",
       "nominee          Telltale Games       Ubisoft Montreal  ...   \n",
       "company          Telltale Games       Ubisoft Montreal  ...   \n",
       "winner                        0                      0  ...   \n",
       "voted                      jury                   jury  ...   \n",
       "\n",
       "                               795                      796  \\\n",
       "year                          2019                     2019   \n",
       "category         Best Esports Host        Best Esports Host   \n",
       "nominee   Eefje \"Sjokz\" Depoortere  Alex \"Goldenboy\" Mendez   \n",
       "company                        NaN                      NaN   \n",
       "winner                           1                        0   \n",
       "voted                         jury                     jury   \n",
       "\n",
       "                                797                       798  \\\n",
       "year                           2019                      2019   \n",
       "category          Best Esports Host         Best Esports Host   \n",
       "nominee   Alex \"Machine\" Richardson  Duan \"Candice\" Yu-Shuang   \n",
       "company                         NaN                       NaN   \n",
       "winner                            0                         0   \n",
       "voted                          jury                      jury   \n",
       "\n",
       "                             799                                 800  \\\n",
       "year                        2019                                2019   \n",
       "category       Best Esports Host              Global Gaming Citizens   \n",
       "nominee   Paul \"Redeye\" Chaloner  Fereshteh Forough, Code to Inspire   \n",
       "company                      NaN                                 NaN   \n",
       "winner                         0                                   1   \n",
       "voted                       jury                                jury   \n",
       "\n",
       "                                801                     802  \\\n",
       "year                           2019                    2019   \n",
       "category     Global Gaming Citizens  Global Gaming Citizens   \n",
       "nominee   Damon Packwood, Gameheads     Luke, Let's Be Well   \n",
       "company                         NaN                     NaN   \n",
       "winner                            1                       1   \n",
       "voted                          jury                    jury   \n",
       "\n",
       "                                  803  \\\n",
       "year                             2019   \n",
       "category       Global Gaming Citizens   \n",
       "nominee   Vanessa Gill, Social Cipher   \n",
       "company                           NaN   \n",
       "winner                              1   \n",
       "voted                            jury   \n",
       "\n",
       "                                                   804  \n",
       "year                                              2019  \n",
       "category                        Global Gaming Citizens  \n",
       "nominee   Stephen Machuga and Mat Bergendahl, Stack Up  \n",
       "company                                            NaN  \n",
       "winner                                               1  \n",
       "voted                                             jury  \n",
       "\n",
       "[6 rows x 805 columns]"
      ]
     },
     "execution_count": 3,
     "metadata": {},
     "output_type": "execute_result"
    }
   ],
   "source": [
    "tabela.T"
   ]
  },
  {
   "cell_type": "markdown",
   "metadata": {
    "tags": []
   },
   "source": [
    "# PERGUNTAS THE GAME AWARDS\n",
    "\n",
    "1.Quem venceu o GOTY de 2018?\n",
    "2.Qual jogo ganhou o premio de melhor narrativa de 2016?\n",
    "3.Qual jogo ganhou o premio de melhor MP de 2019?\n",
    "4.Qual jogo teve a melhor direção de arte de 2019?\n",
    "5.Quem venceu o GOTY de 2019?\n",
    "6.Qual jogo venceu como melhor indie de 2017?\n",
    "7.Qual o melhor jogo AR/VR de 2017?\n",
    "8.Qual jogo teve a melhor direção de áudio de 2018?\n",
    "9.Quem venceu o GOTY de 2016?\n",
    "10.Qual foi o melhor jogo de luta de 2015?"
   ]
  },
  {
   "cell_type": "code",
   "execution_count": 4,
   "metadata": {},
   "outputs": [
    {
     "name": "stdout",
     "output_type": "stream",
     "text": [
      "O vencedor do GOTY de 2018 foi: God of War\n"
     ]
    }
   ],
   "source": [
    "# 1.Quem venceu o GOTY de 2018?\n",
    "\n",
    "goat2018 = tabela[['year', 'category', 'winner', 'nominee']] #puxando os dados da tabela\n",
    "goty_2018_winner = goat2018.loc[(goat2018['year'] == 2018) & (goat2018['winner'] == 1) & (goat2018['category'] == 'Game of the Year'), 'nominee'].values[0]\n",
    "print(f\"O vencedor do GOTY de 2018 foi: {goty_2018_winner}\")\n"
   ]
  },
  {
   "cell_type": "code",
   "execution_count": 5,
   "metadata": {},
   "outputs": [
    {
     "name": "stdout",
     "output_type": "stream",
     "text": [
      "O vencedor de melhor narrativa de 2016 foi: Uncharted 4: A Thief's End\n"
     ]
    }
   ],
   "source": [
    "# 2.Qual jogo ganhou o premio de melhor narrativa de 2016?\n",
    "\n",
    "narrativa2016 = tabela [['year', 'category', 'winner', 'nominee']] #puxando os dados da tabela\n",
    "narrativa_2016_winner = narrativa2016.loc[(narrativa2016['year'] == 2016) & (narrativa2016['winner'] == 1) & (narrativa2016['category'] == 'Best Narrative'), 'nominee'].values[0]\n",
    "print(f\"O vencedor de melhor narrativa de 2016 foi: {narrativa_2016_winner}\")"
   ]
  },
  {
   "cell_type": "code",
   "execution_count": 6,
   "metadata": {},
   "outputs": [
    {
     "name": "stdout",
     "output_type": "stream",
     "text": [
      "O vencedor de melhor MultiPlayer de 2019 foi: Apex Legends\n"
     ]
    }
   ],
   "source": [
    "# 3.Qual jogo ganhou o premio de melhor MP de 2019?\n",
    "\n",
    "mp2019 = tabela [['year', 'category', 'winner', 'nominee']] #puxando os dados da tabela\n",
    "mp_2019_winner = mp2019.loc[(mp2019['year'] == 2019) & (mp2019['winner'] == 1) & (mp2019['category'] == 'Best Multiplayer Game'), 'nominee'].values[0]\n",
    "print(f\"O vencedor de melhor MultiPlayer de 2019 foi: {mp_2019_winner}\")\n",
    "\n"
   ]
  },
  {
   "cell_type": "code",
   "execution_count": 7,
   "metadata": {},
   "outputs": [
    {
     "name": "stdout",
     "output_type": "stream",
     "text": [
      "O vencedor de melhor direção de arte de 2019 foi: Control\n"
     ]
    }
   ],
   "source": [
    "# 4.Qual jogo teve a melhor direção de arte de 2019?\n",
    "\n",
    "arte2019 = tabela [['year', 'category', 'winner', 'nominee']] #puxando os dados da tabela\n",
    "arte_2019_winner = arte2019.loc[(arte2019['year'] == 2019) & (arte2019['winner'] == 1) & (arte2019['category'] == 'Best Art Direction'), 'nominee'].values[0]\n",
    "print(f\"O vencedor de melhor direção de arte de 2019 foi: {arte_2019_winner}\")"
   ]
  },
  {
   "cell_type": "code",
   "execution_count": 8,
   "metadata": {},
   "outputs": [
    {
     "name": "stdout",
     "output_type": "stream",
     "text": [
      "O vencedor do GOTY de 2019 foi: Sekiro: Shadows Die Twice\n"
     ]
    }
   ],
   "source": [
    "# 5.Quem venceu o GOTY de 2019?\n",
    "\n",
    "goat2019 = tabela[['year', 'category', 'winner', 'nominee']] #puxando os dados da tabela\n",
    "goty_2019_winner = goat2019.loc[(goat2019['year'] == 2019) & (goat2019['winner'] == 1) & (goat2019['category'] == 'Game of the Year'), 'nominee'].values[0]\n",
    "print(f\"O vencedor do GOTY de 2019 foi: {goty_2019_winner}\")\n"
   ]
  },
  {
   "cell_type": "code",
   "execution_count": 9,
   "metadata": {},
   "outputs": [
    {
     "name": "stdout",
     "output_type": "stream",
     "text": [
      "O vencedor de game indie de 2017 foi: Cuphead\n"
     ]
    }
   ],
   "source": [
    "# 6.Qual jogo venceu como melhor indie de 2017?\n",
    "\n",
    "indie2017 = tabela[['year', 'category', 'winner', 'nominee']] #puxando os dados da tabela\n",
    "indie_2017_winner = indie2017.loc[(indie2017['year'] == 2017) & (indie2017['winner'] == 1) & (indie2017['category'] == 'Best Independent Game'), 'nominee'].values[0]\n",
    "print(f\"O vencedor de game indie de 2017 foi: {indie_2017_winner}\")"
   ]
  },
  {
   "cell_type": "code",
   "execution_count": 10,
   "metadata": {},
   "outputs": [
    {
     "name": "stdout",
     "output_type": "stream",
     "text": [
      "O vencedor de melhor AR/VR de 2017 foi: Resident Evil 7: Biohazard\n"
     ]
    }
   ],
   "source": [
    "# 7.Qual o melhor jogo AR/VR de 2017?\n",
    "\n",
    "vrgame = tabela[['year', 'category', 'winner', 'nominee']] #puxando os dados da tabela\n",
    "vr_game_2017 = vrgame.loc[(vrgame['year'] == 2017) & (vrgame['winner'] == 1) & (vrgame['category'] == 'Best VR/AR Game'), 'nominee'].values[0]\n",
    "print(f\"O vencedor de melhor AR/VR de 2017 foi: {vr_game_2017}\")"
   ]
  },
  {
   "cell_type": "code",
   "execution_count": 11,
   "metadata": {},
   "outputs": [
    {
     "name": "stdout",
     "output_type": "stream",
     "text": [
      "O vencedor de melhor direção de audio foi: Red Dead Redemption 2\n"
     ]
    }
   ],
   "source": [
    "# 8.Qual jogo teve a melhor direção de áudio de 2018?\n",
    "\n",
    "audiodesign2018 = tabela[['year', 'category', 'winner', 'nominee']] #puxando os dados da tabela\n",
    "audio_2018_winner = audiodesign2018.loc[(audiodesign2018['year'] == 2018) & (audiodesign2018['winner'] == 1) & (audiodesign2018['category'] == 'Best Audio Design'), 'nominee'].values[0]\n",
    "print(f\"O vencedor de melhor direção de audio foi: {audio_2018_winner}\")"
   ]
  },
  {
   "cell_type": "code",
   "execution_count": 12,
   "metadata": {},
   "outputs": [
    {
     "name": "stdout",
     "output_type": "stream",
     "text": [
      "O vencedor do GOTY de 2019 foi: Overwatch\n"
     ]
    }
   ],
   "source": [
    "# 9.Quem venceu o GOTY de 2016?\n",
    "\n",
    "goat2016 = tabela[['year', 'category', 'winner', 'nominee']] #puxando os dados da tabela\n",
    "goty_2016_winner = goat2016.loc[(goat2016['year'] == 2016) & (goat2016['winner'] == 1) & (goat2016['category'] == 'Game of the Year'), 'nominee'].values[0]\n",
    "print(f\"O vencedor do GOTY de 2019 foi: {goty_2016_winner}\")"
   ]
  },
  {
   "cell_type": "code",
   "execution_count": 13,
   "metadata": {},
   "outputs": [
    {
     "name": "stdout",
     "output_type": "stream",
     "text": [
      "O vencedor de melhor jogo de luta de 2015 foi: Mortal Kombat X\n"
     ]
    }
   ],
   "source": [
    "# 10.Qual foi o melhor jogo de luta de 2015?\n",
    "\n",
    "fight2015 = tabela[['year', 'category', 'winner', 'nominee']] #puxando os dados da tabela\n",
    "fight_2015_winner = fight2015.loc[(fight2015['year'] == 2015) & (fight2015['winner'] == 1) & (fight2015['category'] == 'Best Fighting Game'), 'nominee'].values[0]\n",
    "print(f\"O vencedor de melhor jogo de luta de 2015 foi: {fight_2015_winner}\")"
   ]
  }
 ],
 "metadata": {
  "kernelspec": {
   "display_name": "Python 3",
   "language": "python",
   "name": "python3"
  },
  "language_info": {
   "codemirror_mode": {
    "name": "ipython",
    "version": 3
   },
   "file_extension": ".py",
   "mimetype": "text/x-python",
   "name": "python",
   "nbconvert_exporter": "python",
   "pygments_lexer": "ipython3",
   "version": "3.11.5"
  }
 },
 "nbformat": 4,
 "nbformat_minor": 2
}
