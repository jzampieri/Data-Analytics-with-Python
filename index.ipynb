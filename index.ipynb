{
 "cells": [
  {
   "cell_type": "code",
   "execution_count": null,
   "metadata": {},
   "outputs": [],
   "source": [
    "import pandas as pd\n",
    "import numpy as np"
   ]
  },
  {
   "cell_type": "code",
   "execution_count": null,
   "metadata": {},
   "outputs": [],
   "source": [
    "tabela = pd.read_csv(\"CSV/Data-Camp-Brasileiro_1.csv\")"
   ]
  },
  {
   "cell_type": "code",
   "execution_count": null,
   "metadata": {},
   "outputs": [],
   "source": [
    "tabela.sample(3).T"
   ]
  },
  {
   "cell_type": "markdown",
   "metadata": {
    "tags": []
   },
   "source": [
    "# PERGUNTAS BRASILEIRÃO SÉRIE A\n",
    "\n",
    "1.Qual time teve a melhor posição?\n",
    "2.Qual time teve a melhor defesa(menos gols sofridos)?\n",
    "3.Qual time teve o melhor ataque(mais gols marcados)?\n",
    "4.Qual time teve o melhor aproveitamento?\n",
    "5.Qual time teve o pior aproveitamento?\n",
    "6.Qual time teve o melhor saldo de gols?\n",
    "7.Qual time fez mais pontos?\n",
    "8.Qual time teve a pior defesa(mais gols sofridos)?\n",
    "9.Qual time teve o pior ataque(menos gols marcados)?\n",
    "10.Qual time teve mais empates?"
   ]
  },
  {
   "cell_type": "code",
   "execution_count": null,
   "metadata": {},
   "outputs": [],
   "source": [
    "# Qual time teve a melhor posição?\n",
    "csvPosicao = tabela[['Ano', 'Posicao']]\n",
    "todasPosicoes = csvPosicao.groupby(by=['Ano'])['Posicao'].mean()\n",
    "csvPosicao1 = todasPosicoes.sort_values(ascending=False)\n",
    "\n",
    "csvPosicao1.head(1)\n"
   ]
  }
 ],
 "metadata": {
  "kernelspec": {
   "display_name": "Python 3",
   "language": "python",
   "name": "python3"
  },
  "language_info": {
   "codemirror_mode": {
    "name": "ipython",
    "version": 3
   },
   "file_extension": ".py",
   "mimetype": "text/x-python",
   "name": "python",
   "nbconvert_exporter": "python",
   "pygments_lexer": "ipython3",
   "version": "3.11.5"
  }
 },
 "nbformat": 4,
 "nbformat_minor": 2
}
